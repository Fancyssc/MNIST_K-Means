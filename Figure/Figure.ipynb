{
 "cells": [
  {
   "cell_type": "code",
   "execution_count": 1,
   "metadata": {
    "collapsed": true,
    "ExecuteTime": {
     "end_time": "2023-05-19T14:42:18.332168300Z",
     "start_time": "2023-05-19T14:42:18.305089100Z"
    }
   },
   "outputs": [],
   "source": [
    "from pathlib import Path\n",
    "from matplotlib import pyplot as plt\n",
    "from scipy.ndimage import gaussian_filter\n",
    "from skimage.filters import gaussian\n",
    "from skimage.feature import canny\n",
    "import pickle\n",
    "import gzip\n",
    "import torch"
   ]
  },
  {
   "cell_type": "code",
   "execution_count": 2,
   "outputs": [
    {
     "name": "stdout",
     "output_type": "stream",
     "text": [
      "load over\n"
     ]
    }
   ],
   "source": [
    "#读取数据\n",
    "DATA_PATH = Path(\"../data\")\n",
    "PATH = DATA_PATH / \"MNIST\"\n",
    "FILENAME = 'mnist.pkl.gz'\n",
    "with gzip.open((PATH/FILENAME).as_posix(),\"rb\") as f:\n",
    "    ((x_train,y_train),(x_valid,y_valid),_) = pickle.load(f,encoding=\"latin-1\")\n",
    "\n",
    "    x_train, y_train, x_valid, y_valid = map(torch.tensor, (x_train, y_train, x_valid, y_valid))\n",
    "\n",
    "    x_train = x_train.numpy()\n",
    "    y_train = y_train.numpy()\n",
    "    x_valid = x_valid.numpy()\n",
    "    y_valid = y_valid.numpy()\n",
    "#读取数据完成\n",
    "print(\"load over\")\n"
   ],
   "metadata": {
    "collapsed": false,
    "ExecuteTime": {
     "end_time": "2023-05-19T14:42:18.875847900Z",
     "start_time": "2023-05-19T14:42:18.316480100Z"
    }
   }
  },
  {
   "cell_type": "markdown",
   "source": [
    "# 绘制MNIST图像样例"
   ],
   "metadata": {
    "collapsed": false
   }
  },
  {
   "cell_type": "code",
   "execution_count": 6,
   "outputs": [
    {
     "data": {
      "text/plain": "<Figure size 640x480 with 12 Axes>",
      "image/png": "[encoded data removed]"
     },
     "metadata": {},
     "output_type": "display_data"
    }
   ],
   "source": [
    "for i in range(12):\n",
    "    plt.sca(plt.subplot(3,4,i+1))\n",
    "    plt.imshow(x_train[i*2+1].reshape(28,28))\n",
    "    plt.axis(\"off\")\n",
    "plt.savefig(\"../Figure/MNIST_Sample.jpg\",dpi=200)\n",
    "plt.show()"
   ],
   "metadata": {
    "collapsed": false,
    "ExecuteTime": {
     "end_time": "2023-05-19T14:42:19.064434700Z",
     "start_time": "2023-05-19T14:42:18.875847900Z"
    }
   }
  },
  {
   "cell_type": "markdown",
   "source": [
    "# 绘制Canny算子的处理结果"
   ],
   "metadata": {
    "collapsed": false
   }
  },
  {
   "cell_type": "code",
   "execution_count": 4,
   "outputs": [
    {
     "data": {
      "text/plain": "<Figure size 640x480 with 3 Axes>",
      "image/png": "[encoded data removed]"
     },
     "metadata": {},
     "output_type": "display_data"
    }
   ],
   "source": [
    "img = x_train[0]\n",
    "plt.sca(plt.subplot(1,3,1))\n",
    "plt.axis(\"off\")\n",
    "plt.imshow(img.reshape(28,28))\n",
    "img_canny = canny(x_train[[0]].reshape(28,28))\n",
    "plt.sca(plt.subplot(1,3,2))\n",
    "plt.axis(\"off\")\n",
    "plt.imshow(img_canny)\n",
    "img = img+img_canny.reshape(1,784)\n",
    "plt.sca(plt.subplot(1,3,3))\n",
    "plt.axis(\"off\")\n",
    "plt.imshow(img.reshape(28,28))\n",
    "plt.savefig(\"../Figure/Canny.jpg\",dpi=200)\n",
    "plt.show()"
   ],
   "metadata": {
    "collapsed": false,
    "ExecuteTime": {
     "end_time": "2023-05-19T14:42:19.158599300Z",
     "start_time": "2023-05-19T14:42:19.064434700Z"
    }
   }
  },
  {
   "cell_type": "markdown",
   "source": [
    "# 高斯平滑和USM"
   ],
   "metadata": {
    "collapsed": false
   }
  },
  {
   "cell_type": "code",
   "execution_count": 5,
   "outputs": [
    {
     "data": {
      "text/plain": "<Figure size 640x480 with 3 Axes>",
      "image/png": "[encoded data removed]"
     },
     "metadata": {},
     "output_type": "display_data"
    }
   ],
   "source": [
    "img = x_train[0]\n",
    "plt.sca(plt.subplot(1,3,1))\n",
    "plt.axis(\"off\")\n",
    "plt.imshow(img.reshape(28,28))\n",
    "img_gaussian = gaussian_filter(x_train[[0]].reshape(28,28),sigma=1)\n",
    "plt.sca(plt.subplot(1,3,2))\n",
    "plt.axis(\"off\")\n",
    "plt.imshow(img_gaussian)\n",
    "\n",
    "\n",
    "\n",
    "img= x_train[0].reshape(28,28)\n",
    "\n",
    "img = img * 1.0\n",
    "gauss_out = gaussian(img, sigma=2)\n",
    "\n",
    "alpha = 5\n",
    "img_out = (img - gauss_out) * alpha + img\n",
    "img_out = img_out/255.0\n",
    "\n",
    "mask_1 = img_out  < 0\n",
    "mask_2 = img_out  > 1\n",
    "img_out = img_out * (1-mask_1)\n",
    "img_out = img_out * (1-mask_2) + mask_2\n",
    "\n",
    "img_USM = img_out\n",
    "\n",
    "plt.sca(plt.subplot(1,3,3))\n",
    "plt.axis(\"off\")\n",
    "plt.imshow(img_USM)\n",
    "plt.savefig(\"../Figure/USM_Gaussian.jpg\",dpi=200)\n",
    "plt.show()"
   ],
   "metadata": {
    "collapsed": false,
    "ExecuteTime": {
     "end_time": "2023-05-19T14:42:19.331285600Z",
     "start_time": "2023-05-19T14:42:19.268388100Z"
    }
   }
  }
 ],
 "metadata": {
  "kernelspec": {
   "display_name": "Python 3",
   "language": "python",
   "name": "python3"
  },
  "language_info": {
   "codemirror_mode": {
    "name": "ipython",
    "version": 2
   },
   "file_extension": ".py",
   "mimetype": "text/x-python",
   "name": "python",
   "nbconvert_exporter": "python",
   "pygments_lexer": "ipython2",
   "version": "2.7.6"
  }
 },
 "nbformat": 4,
 "nbformat_minor": 0
}
